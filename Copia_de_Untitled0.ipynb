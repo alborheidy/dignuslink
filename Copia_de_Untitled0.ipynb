{
  "nbformat": 4,
  "nbformat_minor": 0,
  "metadata": {
    "colab": {
      "provenance": [],
      "authorship_tag": "ABX9TyNhml03LL/vxSsqdtAqwxdf",
      "include_colab_link": true
    },
    "kernelspec": {
      "name": "python3",
      "display_name": "Python 3"
    },
    "language_info": {
      "name": "python"
    }
  },
  "cells": [
    {
      "cell_type": "markdown",
      "metadata": {
        "id": "view-in-github",
        "colab_type": "text"
      },
      "source": [
        "<a href=\"https://colab.research.google.com/github/alborheidy/dignuslink/blob/main/Copia_de_Untitled0.ipynb\" target=\"_parent\"><img src=\"https://colab.research.google.com/assets/colab-badge.svg\" alt=\"Open In Colab\"/></a>"
      ]
    },
    {
      "cell_type": "code",
      "execution_count": null,
      "metadata": {
        "id": "5iq8yIHxpBLI"
      },
      "outputs": [],
      "source": [
        "<!DOCTYPE html>\n",
        "<html lang=\"en\">\n",
        "<head>\n",
        "    <meta charset=\"UTF-8\">\n",
        "    <meta name=\"viewport\" content=\"width=device-width, initial-scale=1.0\">\n",
        "    <title>Lo sabia</title>\n",
        "\n",
        "    <link rel=\"stylesheet\" href=\"me_perdonas.css\">\n",
        "\n",
        "\n",
        "    <style>\n",
        "        #No {\n",
        "    grid-row: 5;\n",
        "    grid-column: 6;\n",
        "}\n",
        "    </style>\n",
        "</head>\n",
        "<body>\n",
        "        <div>\n",
        "            <p id=\"p\" hidden>lo sabia </p>\n",
        "        <h1 id=\"1\">Me Perdonas</h1>\n",
        "        <section>\n",
        "        <button id=\"Si\">Si</button>\n",
        "        <button id=\"No\">No</button>\n",
        "    </section>\n",
        "    </div>\n",
        "\n",
        "    <script src=\"me_perdonas.js\"></script>\n",
        "</body>\n",
        "</html>"
      ]
    }
  ]
}